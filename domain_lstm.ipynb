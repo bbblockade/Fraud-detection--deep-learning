{
 "cells": [
  {
   "cell_type": "code",
   "execution_count": 9,
   "metadata": {},
   "outputs": [],
   "source": [
    "import json\n",
    "from sklearn import svm\n",
    "from sklearn.model_selection import train_test_split\n",
    "from sklearn.metrics import accuracy_score\n",
    "from keras.utils import pad_sequences\n",
    "from sklearn.naive_bayes import MultinomialNB\n",
    "from sklearn.feature_extraction.text import TfidfVectorizer\n",
    "import matplotlib.pyplot as plt\n",
    "from keras.utils import to_categorical\n",
    "from keras.layers import Masking\n",
    "from keras.models import Sequential\n",
    "from keras.layers import Embedding, Conv1D, MaxPooling1D, LSTM, Dense, Dropout\n",
    "import numpy as np\n",
    "features_d1 = []\n",
    "labels_d1 = []\n",
    "labels_domain = []\n",
    "# Open file for reading\n",
    "with open('domain1_train.json', 'r') as f:\n",
    "    for line in f:\n",
    "        # Parse the JSON line into a Python dictionary\n",
    "        obj = json.loads(line)\n",
    "        labels_d1.append(obj['label'])\n",
    "        text_without_zeros = [x for x in obj['text'] if x != 0]\n",
    "        features_d1.append(text_without_zeros)\n",
    "\n",
    "        labels_domain.append(0)\n",
    "\n",
    "features_d2 = []\n",
    "labels_d2 = []\n",
    "# Open file for reading\n",
    "with open('domain2_train.json', 'r') as f:\n",
    "    for line in f:\n",
    "        # Parse the JSON line into a Python dictionary\n",
    "        obj = json.loads(line)\n",
    "        text_without_zeros = [x for x in obj['text'] if x != 0]\n",
    "        features_d2.append(text_without_zeros)\n",
    "        labels_d2.append(obj['label'])\n",
    "        labels_domain.append(1)\n"
   ]
  },
  {
   "cell_type": "code",
   "execution_count": 11,
   "metadata": {},
   "outputs": [],
   "source": [
    "# Split the data\n",
    "features = features_d1+features_d2\n",
    "padded_features = pad_sequences(features, padding='pre', value=0)\n",
    "labels_domain = to_categorical(labels_domain, num_classes=2)\n",
    "\n",
    "X_train, X_test, y_domain_train, y_domain_test = train_test_split(\n",
    "    padded_features, labels_domain, test_size=0.2, random_state=42\n",
    ")\n"
   ]
  },
  {
   "cell_type": "code",
   "execution_count": 12,
   "metadata": {},
   "outputs": [
    {
     "data": {
      "text/plain": [
       "array([[0., 1.],\n",
       "       [1., 0.],\n",
       "       [0., 1.],\n",
       "       ...,\n",
       "       [1., 0.],\n",
       "       [1., 0.],\n",
       "       [1., 0.]], dtype=float32)"
      ]
     },
     "execution_count": 12,
     "metadata": {},
     "output_type": "execute_result"
    }
   ],
   "source": [
    "y_domain_train"
   ]
  },
  {
   "cell_type": "code",
   "execution_count": 24,
   "metadata": {},
   "outputs": [
    {
     "name": "stdout",
     "output_type": "stream",
     "text": [
      "Model: \"model_7\"\n",
      "_________________________________________________________________\n",
      " Layer (type)                Output Shape              Param #   \n",
      "=================================================================\n",
      " input_8 (InputLayer)        [(None, None)]            0         \n",
      "                                                                 \n",
      " embedding_7 (Embedding)     (None, None, 100)         500000    \n",
      "                                                                 \n",
      " conv1d (Conv1D)             (None, None, 32)          9632      \n",
      "                                                                 \n",
      " dropout_14 (Dropout)        (None, None, 32)          0         \n",
      "                                                                 \n",
      " max_pooling1d (MaxPooling1D  (None, None, 32)         0         \n",
      " )                                                               \n",
      "                                                                 \n",
      " lstm_7 (LSTM)               (None, 32)                8320      \n",
      "                                                                 \n",
      " dropout_15 (Dropout)        (None, 32)                0         \n",
      "                                                                 \n",
      " dense_7 (Dense)             (None, 16)                528       \n",
      "                                                                 \n",
      " dropout_16 (Dropout)        (None, 16)                0         \n",
      "                                                                 \n",
      " domain (Dense)              (None, 2)                 34        \n",
      "                                                                 \n",
      "=================================================================\n",
      "Total params: 518,514\n",
      "Trainable params: 518,514\n",
      "Non-trainable params: 0\n",
      "_________________________________________________________________\n"
     ]
    }
   ],
   "source": [
    "from keras.models import Model\n",
    "from keras.layers import Embedding, Conv1D, MaxPooling1D, LSTM, GlobalMaxPooling1D, Dense, Dropout, Masking, Input, Bidirectional\n",
    "from keras.regularizers import l2\n",
    "import tensorflow as tf\n",
    "import sys\n",
    "\n",
    "# Constants\n",
    "vocab_size = 5000  # Vocabulary size\n",
    "embedding_dim = 100 # Embedding dimension\n",
    "n_domain_classes = 2 # Classification for the domain task\n",
    "\n",
    "# Input Layer\n",
    "input_layer = Input(shape=(None,))\n",
    "\n",
    "# Embedding Layer\n",
    "embedding_layer = Embedding(vocab_size, embedding_dim, mask_zero=True)(input_layer)\n",
    "\n",
    "\n",
    "\n",
    "# Conv1D Layer\n",
    "conv1d_layer = Conv1D(filters=32, kernel_size=3, activation='relu')(embedding_layer)\n",
    "\n",
    "# Dropout Layer\n",
    "dropout_conv = Dropout(0.3)(conv1d_layer)\n",
    "\n",
    "\n",
    "# Max Pooling Layer\n",
    "max_pooling = MaxPooling1D(pool_size=2)(dropout_conv)\n",
    "\n",
    "# LSTM Layer\n",
    "lstm_layer = LSTM(32)(max_pooling)\n",
    "\n",
    "# Dropout Layer\n",
    "dropout_lstm = Dropout(0.3)(lstm_layer)\n",
    "\n",
    "\n",
    "# New Dense Layer\n",
    "dense_layer = Dense(16, activation='relu')(dropout_lstm)\n",
    "dense_dropout = Dropout(0.5)(dense_layer)\n",
    "\n",
    "\n",
    "# Domain output\n",
    "domain_output = Dense(n_domain_classes, activation='sigmoid', name='domain')(dense_dropout)\n",
    "\n",
    "# Combined model\n",
    "model_domain = Model(inputs=input_layer, outputs=domain_output)\n",
    "\n",
    "\n",
    "\n",
    "\n",
    "model_domain.compile(optimizer='adam',\n",
    "              loss='binary_crossentropy',\n",
    "              metrics=['accuracy'])\n",
    "\n",
    "\n",
    "\n",
    "# Model summary\n",
    "model_domain.summary()"
   ]
  },
  {
   "cell_type": "code",
   "execution_count": 25,
   "metadata": {},
   "outputs": [
    {
     "name": "stdout",
     "output_type": "stream",
     "text": [
      "Epoch 1/50\n"
     ]
    },
    {
     "name": "stdout",
     "output_type": "stream",
     "text": [
      "860/860 [==============================] - 47s 49ms/step - loss: 0.1143 - accuracy: 0.9655 - val_loss: 0.0443 - val_accuracy: 0.9863\n",
      "Epoch 2/50\n",
      "860/860 [==============================] - 42s 49ms/step - loss: 0.0413 - accuracy: 0.9922 - val_loss: 0.0425 - val_accuracy: 0.9888\n",
      "Epoch 3/50\n",
      "860/860 [==============================] - 43s 50ms/step - loss: 0.0266 - accuracy: 0.9954 - val_loss: 0.0534 - val_accuracy: 0.9894\n",
      "Epoch 4/50\n",
      "860/860 [==============================] - 43s 50ms/step - loss: 0.0255 - accuracy: 0.9947 - val_loss: 0.0486 - val_accuracy: 0.9911\n",
      "Epoch 5/50\n",
      "860/860 [==============================] - 42s 48ms/step - loss: 0.0163 - accuracy: 0.9967 - val_loss: 0.0486 - val_accuracy: 0.9903\n"
     ]
    },
    {
     "data": {
      "text/plain": [
       "<keras.callbacks.History at 0x1daa07ff6a0>"
      ]
     },
     "execution_count": 25,
     "metadata": {},
     "output_type": "execute_result"
    }
   ],
   "source": [
    "from tensorflow.keras.callbacks import EarlyStopping\n",
    "early_stopping = EarlyStopping(monitor='val_loss', patience=3, restore_best_weights=True)\n",
    "model_domain.fit(X_train, y_domain_train, validation_data=(X_test, y_domain_test), epochs=50, callbacks=[early_stopping])"
   ]
  },
  {
   "cell_type": "code",
   "execution_count": 26,
   "metadata": {},
   "outputs": [
    {
     "name": "stdout",
     "output_type": "stream",
     "text": [
      "Model: \"model_8\"\n",
      "_________________________________________________________________\n",
      " Layer (type)                Output Shape              Param #   \n",
      "=================================================================\n",
      " input_9 (InputLayer)        [(None, None)]            0         \n",
      "                                                                 \n",
      " embedding_8 (Embedding)     (None, None, 100)         500000    \n",
      "                                                                 \n",
      " bidirectional (Bidirectiona  (None, 64)               34048     \n",
      " l)                                                              \n",
      "                                                                 \n",
      " dropout_17 (Dropout)        (None, 64)                0         \n",
      "                                                                 \n",
      " dense_8 (Dense)             (None, 16)                1040      \n",
      "                                                                 \n",
      " dropout_18 (Dropout)        (None, 16)                0         \n",
      "                                                                 \n",
      " domain (Dense)              (None, 2)                 34        \n",
      "                                                                 \n",
      "=================================================================\n",
      "Total params: 535,122\n",
      "Trainable params: 535,122\n",
      "Non-trainable params: 0\n",
      "_________________________________________________________________\n"
     ]
    }
   ],
   "source": [
    "# Constants\n",
    "vocab_size = 5000  # Vocabulary size\n",
    "embedding_dim = 100 # Embedding dimension\n",
    "n_domain_classes = 2 # Classification for the domain task\n",
    "\n",
    "# Input Layer\n",
    "input_layer = Input(shape=(None,))\n",
    "\n",
    "# Embedding Layer\n",
    "embedding_layer = Embedding(vocab_size, embedding_dim, mask_zero=True)(input_layer)\n",
    "\n",
    "\n",
    "# LSTM Layer\n",
    "lstm_layer = Bidirectional(LSTM(32))(embedding_layer)\n",
    "\n",
    "# Dropout Layer\n",
    "dropout_lstm = Dropout(0.3)(lstm_layer)\n",
    "\n",
    "\n",
    "# New Dense Layer\n",
    "dense_layer = Dense(16, activation='relu')(dropout_lstm)\n",
    "dense_dropout = Dropout(0.3)(dense_layer)\n",
    "\n",
    "\n",
    "# Domain output\n",
    "domain_output = Dense(n_domain_classes, activation='sigmoid', name='domain')(dense_dropout)\n",
    "\n",
    "# Combined model\n",
    "model_domain1 = Model(inputs=input_layer, outputs=domain_output)\n",
    "\n",
    "\n",
    "\n",
    "model_domain1.compile(optimizer='adam',\n",
    "              loss='binary_crossentropy',\n",
    "              metrics=['accuracy'])\n",
    "\n",
    "\n",
    "\n",
    "# Model summary\n",
    "model_domain1.summary()"
   ]
  },
  {
   "cell_type": "code",
   "execution_count": null,
   "metadata": {},
   "outputs": [],
   "source": [
    "early_stopping = EarlyStopping(monitor='val_loss', patience=3, restore_best_weights=True)\n",
    "\n",
    "padded_features = pad_sequences(features_d1, padding='pre', value=0)\n",
    "labels_domain = to_categorical(labels_d1, num_classes=2)\n",
    "\n",
    "X_train_domain1, X_test_domain1, y_train_domain1, y_test_domain1 = train_test_split(\n",
    "    padded_features, labels_domain, test_size=0.2, random_state=42\n",
    ")\n",
    "model_domain1.fit(X_train, y_domain_train, validation_data=(X_test, y_domain_test), epochs=50, callbacks=[early_stopping])"
   ]
  }
 ],
 "metadata": {
  "kernelspec": {
   "display_name": "CV",
   "language": "python",
   "name": "python3"
  },
  "language_info": {
   "codemirror_mode": {
    "name": "ipython",
    "version": 3
   },
   "file_extension": ".py",
   "mimetype": "text/x-python",
   "name": "python",
   "nbconvert_exporter": "python",
   "pygments_lexer": "ipython3",
   "version": "3.9.17"
  },
  "orig_nbformat": 4
 },
 "nbformat": 4,
 "nbformat_minor": 2
}
