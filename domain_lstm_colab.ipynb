{
  "cells": [
    {
      "cell_type": "code",
      "execution_count": 6,
      "metadata": {
        "id": "Z9zUpwKHD2H7"
      },
      "outputs": [
        {
          "data": {
            "text/plain": [
              "14900"
            ]
          },
          "execution_count": 6,
          "metadata": {},
          "output_type": "execute_result"
        }
      ],
      "source": [
        "import json\n",
        "from sklearn import svm\n",
        "from sklearn.model_selection import train_test_split\n",
        "from sklearn.metrics import accuracy_score\n",
        "from keras.utils import pad_sequences\n",
        "from sklearn.naive_bayes import MultinomialNB\n",
        "from sklearn.feature_extraction.text import TfidfVectorizer\n",
        "import matplotlib.pyplot as plt\n",
        "from keras.utils import to_categorical\n",
        "from keras.layers import Masking\n",
        "from keras.models import Sequential\n",
        "from keras.layers import Embedding, Conv1D, MaxPooling1D, LSTM, Dense, Dropout\n",
        "import numpy as np\n",
        "from keras.models import Model\n",
        "from keras.layers import Embedding, Conv1D, MaxPooling1D, LSTM, GlobalMaxPooling1D, Dense, Dropout, Masking, Input, Bidirectional\n",
        "from keras.regularizers import l2\n",
        "import tensorflow as tf\n",
        "import sys\n",
        "\n",
        "features_d1 = []\n",
        "labels_d1 = []\n",
        "labels_domain = []\n",
        "features_human_d1 = []\n",
        "zeros_in_text_d1 = []\n",
        "# Open file for reading\n",
        "with open('domain1_train.json', 'r') as f:\n",
        "    for line in f:\n",
        "        # Parse the JSON line into a Python dictionary\n",
        "        obj = json.loads(line)\n",
        "        labels_d1.append(obj['label'])\n",
        "        text_without_zeros = []\n",
        "        count_zeros = 0\n",
        "        for id in obj['text']:\n",
        "            if id != 0 :\n",
        "                text_without_zeros.append(id)\n",
        "            else:\n",
        "                count_zeros += 1\n",
        "        features_d1.append(text_without_zeros)\n",
        "        zeros_in_text_d1.append(count_zeros)\n",
        "        labels_domain.append(0)\n",
        "        if obj['label'] == 1:\n",
        "            features_human_d1.append(text_without_zeros)\n",
        "\n",
        "features_d2 = []\n",
        "labels_d2 = []\n",
        "domains_d2 = []\n",
        "features_human_d2 = []\n",
        "zeros_in_text_d2 = []\n",
        "# Open file for reading\n",
        "with open('domain2_train.json', 'r') as f:\n",
        "    for line in f:\n",
        "        # Parse the JSON line into a Python dictionary\n",
        "        obj = json.loads(line)\n",
        "        text_without_zeros = []\n",
        "        count_zeros = 0\n",
        "        for id in obj['text']:\n",
        "            if id != 0 :\n",
        "                text_without_zeros.append(id)\n",
        "            else:\n",
        "                count_zeros += 1\n",
        "        features_d2.append(text_without_zeros)\n",
        "        zeros_in_text_d2.append(count_zeros)\n",
        "        labels_d2.append(obj['label'])\n",
        "        labels_domain.append(1)\n",
        "        if obj['label'] == 1:\n",
        "            domains_d2.append(7)\n",
        "            features_human_d2.append(text_without_zeros)\n",
        "        else:\n",
        "            domains_d2.append(int(obj['model']))\n",
        "len(features_human_d2)\n",
        "len(features_d2)"
      ]
    },
    {
      "cell_type": "code",
      "execution_count": null,
      "metadata": {},
      "outputs": [],
      "source": []
    },
    {
      "cell_type": "code",
      "execution_count": 44,
      "metadata": {},
      "outputs": [],
      "source": [
        "for i in range(3000):\n",
        "    features_human_d2.append(features_d1[i]) "
      ]
    },
    {
      "cell_type": "code",
      "execution_count": 45,
      "metadata": {},
      "outputs": [
        {
          "data": {
            "text/plain": [
              "5150"
            ]
          },
          "execution_count": 45,
          "metadata": {},
          "output_type": "execute_result"
        }
      ],
      "source": [
        "len(features_human_d2)"
      ]
    },
    {
      "cell_type": "code",
      "execution_count": 46,
      "metadata": {},
      "outputs": [],
      "source": [
        "len_features_human_d1= [len(x) for x in features_human_d1] \n",
        "len_features_human_d2= [len(x) for x in features_human_d2] "
      ]
    },
    {
      "cell_type": "code",
      "execution_count": 47,
      "metadata": {},
      "outputs": [
        {
          "data": {
            "text/plain": [
              "(array([3771.,  534.,  396.,   76.,   87.,   80.,   60.,   69.,   46.,\n",
              "          31.]),\n",
              " array([  0. ,  85.2, 170.4, 255.6, 340.8, 426. , 511.2, 596.4, 681.6,\n",
              "        766.8, 852. ]),\n",
              " <BarContainer object of 10 artists>)"
            ]
          },
          "execution_count": 47,
          "metadata": {},
          "output_type": "execute_result"
        },
        {
          "data": {
            "image/png": "[encoded data removed]",
            "text/plain": [
              "<Figure size 640x480 with 1 Axes>"
            ]
          },
          "metadata": {},
          "output_type": "display_data"
        }
      ],
      "source": [
        "import matplotlib.pyplot as plt\n",
        "plt.hist(len_features_human_d2)"
      ]
    },
    {
      "cell_type": "code",
      "execution_count": 48,
      "metadata": {},
      "outputs": [
        {
          "data": {
            "text/plain": [
              "(array([ 620., 3328., 2996., 1778.,  671.,  234.,   70.,   38.,    6.,\n",
              "           9.]),\n",
              " array([ 0. ,  9.1, 18.2, 27.3, 36.4, 45.5, 54.6, 63.7, 72.8, 81.9, 91. ]),\n",
              " <BarContainer object of 10 artists>)"
            ]
          },
          "execution_count": 48,
          "metadata": {},
          "output_type": "execute_result"
        },
        {
          "data": {
            "image/png": "[encoded data removed]",
            "text/plain": [
              "<Figure size 640x480 with 1 Axes>"
            ]
          },
          "metadata": {},
          "output_type": "display_data"
        }
      ],
      "source": [
        "plt.hist(len_features_human_d1)"
      ]
    },
    {
      "cell_type": "code",
      "execution_count": 2,
      "metadata": {},
      "outputs": [],
      "source": [
        "import pandas as pd\n",
        "from sklearn.utils import resample\n",
        "\n",
        "# Convert features and labels into a single DataFrame for easier handling\n",
        "df = pd.DataFrame({\n",
        "    'features': features_d2,\n",
        "    'labels': labels_d2\n",
        "})\n",
        "\n",
        "# Separate majority and minority classes\n",
        "df_majority = df[df.labels==0]\n",
        "df_minority = df[df.labels==1]\n",
        "\n",
        "# Downsample majority class\n",
        "df_majority_downsampled = resample(df_majority, \n",
        "                                 replace=False,    # sample without replacement\n",
        "                                 n_samples=len(df_minority),  # to match minority class\n",
        "                                 random_state=123) # reproducible results\n",
        "\n",
        "# Combine minority class with downsampled majority class\n",
        "df_downsampled = pd.concat([df_majority_downsampled, df_minority])\n",
        "\n",
        "# Split the DataFrame back into features and labels\n",
        "features_downsampled = df_downsampled['features'].tolist()\n",
        "labels_downsampled = df_downsampled['labels'].tolist()"
      ]
    },
    {
      "cell_type": "code",
      "execution_count": 7,
      "metadata": {
        "id": "p3MS7b5uD2H-"
      },
      "outputs": [],
      "source": [
        "# Split the data\n",
        "features = features_d1+features_d2\n",
        "labels = labels_d1 + labels_d2\n",
        "zeros_in_text = zeros_in_text_d1 + zeros_in_text_d2\n",
        "padded_features = pad_sequences(features, padding='pre', value=0)\n",
        "labels_domain = to_categorical(labels_domain, num_classes=2)\n",
        "\n",
        "\n",
        "\n",
        "X_train, X_test, y_train, y_test, zeros_train, zeros_test,= train_test_split(\n",
        "    padded_features, labels_domain, zeros_in_text,   test_size=0.2, random_state=42\n",
        ")\n",
        "\n",
        "\n",
        "padded_features_d1 = pad_sequences(features_d1, padding='pre', value=0)\n",
        "labels_d1 = to_categorical(labels_d1, num_classes=2)\n",
        "X_train_domain1, X_test_domain1, y_train_domain1, y_test_domain1, zeros_train_d1, zeros_test_d1 = train_test_split(\n",
        "    padded_features_d1, labels_d1, zeros_in_text_d1, test_size=0.2, random_state=42)\n",
        "\n",
        "\n",
        "padded_features_d2 = pad_sequences(features_d2, padding='pre', value=0)\n",
        "labels_d2 = to_categorical(labels_d2, num_classes=2)\n",
        "domains_d2 = to_categorical(domains_d2, num_classes=8)\n",
        "\n",
        "X_train_domain2, X_test_domain2, zeros_train_d2, zeros_test_d2, y_train_domain2, y_test_domain2, y_model_train, y_model_test = train_test_split(\n",
        "    padded_features_d2, zeros_in_text_d2, labels_d2,domains_d2, test_size=0.2, random_state=42, stratify=labels_d2)\n",
        "\n",
        "y_train_d2 = {'class': y_train_domain2, 'model': y_model_train}\n",
        "y_test_d2 = {'class': y_test_domain2, 'model': y_model_test}\n",
        "\n"
      ]
    },
    {
      "cell_type": "code",
      "execution_count": 21,
      "metadata": {
        "colab": {
          "base_uri": "https://localhost:8080/"
        },
        "id": "rCsAapweD2H_",
        "outputId": "6988fcc5-b361-4416-9bf0-5e2790e055a8"
      },
      "outputs": [
        {
          "name": "stdout",
          "output_type": "stream",
          "text": [
            "Model: \"model_5\"\n",
            "__________________________________________________________________________________________________\n",
            " Layer (type)                   Output Shape         Param #     Connected to                     \n",
            "==================================================================================================\n",
            " input_11 (InputLayer)          [(None, None)]       0           []                               \n",
            "                                                                                                  \n",
            " embedding_5 (Embedding)        (None, None, 100)    500000      ['input_11[0][0]']               \n",
            "                                                                                                  \n",
            " bidirectional_4 (Bidirectional  (None, 128)         84480       ['embedding_5[0][0]']            \n",
            " )                                                                                                \n",
            "                                                                                                  \n",
            " dropout_13 (Dropout)           (None, 128)          0           ['bidirectional_4[0][0]']        \n",
            "                                                                                                  \n",
            " input_12 (InputLayer)          [(None, 1)]          0           []                               \n",
            "                                                                                                  \n",
            " concatenate_5 (Concatenate)    (None, 129)          0           ['dropout_13[0][0]',             \n",
            "                                                                  'input_12[0][0]']               \n",
            "                                                                                                  \n",
            " dense_9 (Dense)                (None, 32)           4160        ['concatenate_5[0][0]']          \n",
            "                                                                                                  \n",
            " dropout_14 (Dropout)           (None, 32)           0           ['dense_9[0][0]']                \n",
            "                                                                                                  \n",
            " domain (Dense)                 (None, 2)            66          ['dropout_14[0][0]']             \n",
            "                                                                                                  \n",
            "==================================================================================================\n",
            "Total params: 588,706\n",
            "Trainable params: 588,706\n",
            "Non-trainable params: 0\n",
            "__________________________________________________________________________________________________\n"
          ]
        }
      ],
      "source": [
        "from keras.models import Model\n",
        "from keras.layers import Embedding, Conv1D, MaxPooling1D, LSTM, GlobalMaxPooling1D, Dense, Dropout, Masking, Input, Bidirectional, concatenate\n",
        "from keras.regularizers import l2\n",
        "import tensorflow as tf\n",
        "import sys\n",
        "\n",
        "# Constants\n",
        "vocab_size = 5000  # Vocabulary size\n",
        "embedding_dim = 100 # Embedding dimension\n",
        "n_domain_classes = 2 # Classification for the domain task\n",
        "n_classes = 2\n",
        "# Input Layer\n",
        "input_layer = Input(shape=(None,))\n",
        "# New Input Layer for the integer feature\n",
        "input_layer_integer = Input(shape=(1,)) \n",
        "# Embedding Layer\n",
        "embedding_layer = Embedding(vocab_size, embedding_dim, mask_zero=True)(input_layer)\n",
        "\n",
        "\n",
        "\n",
        "# Conv1D Layer\n",
        "#conv1d_layer = Conv1D(filters=64, kernel_size=3, activation='relu')(embedding_layer)\n",
        "\n",
        "# Dropout Layer\n",
        "#dropout_conv = Dropout(0.3)(conv1d_layer)\n",
        "\n",
        "\n",
        "# Max Pooling Layer\n",
        "#max_pooling = MaxPooling1D(pool_size=2)(dropout_conv)\n",
        "\n",
        "# LSTM Layer\n",
        "lstm_layer = Bidirectional(LSTM(64))(embedding_layer)\n",
        "\n",
        "# Dropout Layer\n",
        "dropout_lstm = Dropout(0.3)(lstm_layer)\n",
        "\n",
        "# Concatenate integer input with LSTM output\n",
        "concat_layer = concatenate([dropout_lstm, input_layer_integer])\n",
        "\n",
        "# New Dense Layer\n",
        "dense_layer = Dense(32, activation='relu')(concat_layer)\n",
        "dense_dropout = Dropout(0.3)(dense_layer)\n",
        "\n",
        "\n",
        "\n",
        "# Domain output\n",
        "domain_output = Dense(n_domain_classes, activation='sigmoid', name='domain')(dense_dropout)\n",
        "\n",
        "\n",
        "# Combined model\n",
        "model_domain = Model(inputs=[input_layer, input_layer_integer], outputs= domain_output)\n",
        "\n",
        "\n",
        "\n",
        "\n",
        "model_domain.compile(optimizer='adam',\n",
        "              loss={\n",
        "                  'domain': 'binary_crossentropy'},\n",
        "              metrics=['accuracy'])\n",
        "\n",
        "\n",
        "\n",
        "# Model summary\n",
        "model_domain.summary()"
      ]
    },
    {
      "cell_type": "code",
      "execution_count": 22,
      "metadata": {
        "colab": {
          "base_uri": "https://localhost:8080/"
        },
        "id": "79Yu7fxPD2IA",
        "outputId": "959c0748-2ebe-4cd8-9a2d-6686bb792352"
      },
      "outputs": [
        {
          "name": "stdout",
          "output_type": "stream",
          "text": [
            "Epoch 1/50\n",
            " 7/54 [==>...........................] - ETA: 4:31 - loss: 0.6831 - accuracy: 0.4852"
          ]
        },
        {
          "ename": "KeyboardInterrupt",
          "evalue": "",
          "output_type": "error",
          "traceback": [
            "\u001b[1;31m---------------------------------------------------------------------------\u001b[0m",
            "\u001b[1;31mKeyboardInterrupt\u001b[0m                         Traceback (most recent call last)",
            "\u001b[1;32mc:\\Users\\chenj\\Documents\\SML\\ass1\\SML-assignment\\domain_lstm_colab.ipynb Cell 11\u001b[0m line \u001b[0;36m5\n\u001b[0;32m      <a href='vscode-notebook-cell:/c%3A/Users/chenj/Documents/SML/ass1/SML-assignment/domain_lstm_colab.ipynb#X13sZmlsZQ%3D%3D?line=2'>3</a>\u001b[0m zeros_train \u001b[39m=\u001b[39m np\u001b[39m.\u001b[39marray(zeros_train)\u001b[39m.\u001b[39mreshape(\u001b[39m-\u001b[39m\u001b[39m1\u001b[39m, \u001b[39m1\u001b[39m)\n\u001b[0;32m      <a href='vscode-notebook-cell:/c%3A/Users/chenj/Documents/SML/ass1/SML-assignment/domain_lstm_colab.ipynb#X13sZmlsZQ%3D%3D?line=3'>4</a>\u001b[0m zeros_test \u001b[39m=\u001b[39m np\u001b[39m.\u001b[39marray(zeros_test)\u001b[39m.\u001b[39mreshape(\u001b[39m-\u001b[39m\u001b[39m1\u001b[39m, \u001b[39m1\u001b[39m)\n\u001b[1;32m----> <a href='vscode-notebook-cell:/c%3A/Users/chenj/Documents/SML/ass1/SML-assignment/domain_lstm_colab.ipynb#X13sZmlsZQ%3D%3D?line=4'>5</a>\u001b[0m model_domain\u001b[39m.\u001b[39;49mfit([X_train,zeros_train], y_train, validation_data\u001b[39m=\u001b[39;49m([X_test, zeros_test], y_test), epochs\u001b[39m=\u001b[39;49m\u001b[39m50\u001b[39;49m, callbacks\u001b[39m=\u001b[39;49m[early_stopping], batch_size\u001b[39m=\u001b[39;49m\u001b[39m512\u001b[39;49m)\n",
            "File \u001b[1;32mc:\\Users\\chenj\\anaconda3\\envs\\CV\\lib\\site-packages\\keras\\utils\\traceback_utils.py:65\u001b[0m, in \u001b[0;36mfilter_traceback.<locals>.error_handler\u001b[1;34m(*args, **kwargs)\u001b[0m\n\u001b[0;32m     63\u001b[0m filtered_tb \u001b[39m=\u001b[39m \u001b[39mNone\u001b[39;00m\n\u001b[0;32m     64\u001b[0m \u001b[39mtry\u001b[39;00m:\n\u001b[1;32m---> 65\u001b[0m     \u001b[39mreturn\u001b[39;00m fn(\u001b[39m*\u001b[39margs, \u001b[39m*\u001b[39m\u001b[39m*\u001b[39mkwargs)\n\u001b[0;32m     66\u001b[0m \u001b[39mexcept\u001b[39;00m \u001b[39mException\u001b[39;00m \u001b[39mas\u001b[39;00m e:\n\u001b[0;32m     67\u001b[0m     filtered_tb \u001b[39m=\u001b[39m _process_traceback_frames(e\u001b[39m.\u001b[39m__traceback__)\n",
            "File \u001b[1;32mc:\\Users\\chenj\\anaconda3\\envs\\CV\\lib\\site-packages\\keras\\engine\\training.py:1564\u001b[0m, in \u001b[0;36mModel.fit\u001b[1;34m(self, x, y, batch_size, epochs, verbose, callbacks, validation_split, validation_data, shuffle, class_weight, sample_weight, initial_epoch, steps_per_epoch, validation_steps, validation_batch_size, validation_freq, max_queue_size, workers, use_multiprocessing)\u001b[0m\n\u001b[0;32m   1556\u001b[0m \u001b[39mwith\u001b[39;00m tf\u001b[39m.\u001b[39mprofiler\u001b[39m.\u001b[39mexperimental\u001b[39m.\u001b[39mTrace(\n\u001b[0;32m   1557\u001b[0m     \u001b[39m\"\u001b[39m\u001b[39mtrain\u001b[39m\u001b[39m\"\u001b[39m,\n\u001b[0;32m   1558\u001b[0m     epoch_num\u001b[39m=\u001b[39mepoch,\n\u001b[1;32m   (...)\u001b[0m\n\u001b[0;32m   1561\u001b[0m     _r\u001b[39m=\u001b[39m\u001b[39m1\u001b[39m,\n\u001b[0;32m   1562\u001b[0m ):\n\u001b[0;32m   1563\u001b[0m     callbacks\u001b[39m.\u001b[39mon_train_batch_begin(step)\n\u001b[1;32m-> 1564\u001b[0m     tmp_logs \u001b[39m=\u001b[39m \u001b[39mself\u001b[39;49m\u001b[39m.\u001b[39;49mtrain_function(iterator)\n\u001b[0;32m   1565\u001b[0m     \u001b[39mif\u001b[39;00m data_handler\u001b[39m.\u001b[39mshould_sync:\n\u001b[0;32m   1566\u001b[0m         context\u001b[39m.\u001b[39masync_wait()\n",
            "File \u001b[1;32mc:\\Users\\chenj\\anaconda3\\envs\\CV\\lib\\site-packages\\tensorflow\\python\\util\\traceback_utils.py:150\u001b[0m, in \u001b[0;36mfilter_traceback.<locals>.error_handler\u001b[1;34m(*args, **kwargs)\u001b[0m\n\u001b[0;32m    148\u001b[0m filtered_tb \u001b[39m=\u001b[39m \u001b[39mNone\u001b[39;00m\n\u001b[0;32m    149\u001b[0m \u001b[39mtry\u001b[39;00m:\n\u001b[1;32m--> 150\u001b[0m   \u001b[39mreturn\u001b[39;00m fn(\u001b[39m*\u001b[39margs, \u001b[39m*\u001b[39m\u001b[39m*\u001b[39mkwargs)\n\u001b[0;32m    151\u001b[0m \u001b[39mexcept\u001b[39;00m \u001b[39mException\u001b[39;00m \u001b[39mas\u001b[39;00m e:\n\u001b[0;32m    152\u001b[0m   filtered_tb \u001b[39m=\u001b[39m _process_traceback_frames(e\u001b[39m.\u001b[39m__traceback__)\n",
            "File \u001b[1;32mc:\\Users\\chenj\\anaconda3\\envs\\CV\\lib\\site-packages\\tensorflow\\python\\eager\\def_function.py:915\u001b[0m, in \u001b[0;36mFunction.__call__\u001b[1;34m(self, *args, **kwds)\u001b[0m\n\u001b[0;32m    912\u001b[0m compiler \u001b[39m=\u001b[39m \u001b[39m\"\u001b[39m\u001b[39mxla\u001b[39m\u001b[39m\"\u001b[39m \u001b[39mif\u001b[39;00m \u001b[39mself\u001b[39m\u001b[39m.\u001b[39m_jit_compile \u001b[39melse\u001b[39;00m \u001b[39m\"\u001b[39m\u001b[39mnonXla\u001b[39m\u001b[39m\"\u001b[39m\n\u001b[0;32m    914\u001b[0m \u001b[39mwith\u001b[39;00m OptionalXlaContext(\u001b[39mself\u001b[39m\u001b[39m.\u001b[39m_jit_compile):\n\u001b[1;32m--> 915\u001b[0m   result \u001b[39m=\u001b[39m \u001b[39mself\u001b[39m\u001b[39m.\u001b[39m_call(\u001b[39m*\u001b[39margs, \u001b[39m*\u001b[39m\u001b[39m*\u001b[39mkwds)\n\u001b[0;32m    917\u001b[0m new_tracing_count \u001b[39m=\u001b[39m \u001b[39mself\u001b[39m\u001b[39m.\u001b[39mexperimental_get_tracing_count()\n\u001b[0;32m    918\u001b[0m without_tracing \u001b[39m=\u001b[39m (tracing_count \u001b[39m==\u001b[39m new_tracing_count)\n",
            "File \u001b[1;32mc:\\Users\\chenj\\anaconda3\\envs\\CV\\lib\\site-packages\\tensorflow\\python\\eager\\def_function.py:947\u001b[0m, in \u001b[0;36mFunction._call\u001b[1;34m(self, *args, **kwds)\u001b[0m\n\u001b[0;32m    944\u001b[0m   \u001b[39mself\u001b[39m\u001b[39m.\u001b[39m_lock\u001b[39m.\u001b[39mrelease()\n\u001b[0;32m    945\u001b[0m   \u001b[39m# In this case we have created variables on the first call, so we run the\u001b[39;00m\n\u001b[0;32m    946\u001b[0m   \u001b[39m# defunned version which is guaranteed to never create variables.\u001b[39;00m\n\u001b[1;32m--> 947\u001b[0m   \u001b[39mreturn\u001b[39;00m \u001b[39mself\u001b[39m\u001b[39m.\u001b[39m_stateless_fn(\u001b[39m*\u001b[39margs, \u001b[39m*\u001b[39m\u001b[39m*\u001b[39mkwds)  \u001b[39m# pylint: disable=not-callable\u001b[39;00m\n\u001b[0;32m    948\u001b[0m \u001b[39melif\u001b[39;00m \u001b[39mself\u001b[39m\u001b[39m.\u001b[39m_stateful_fn \u001b[39mis\u001b[39;00m \u001b[39mnot\u001b[39;00m \u001b[39mNone\u001b[39;00m:\n\u001b[0;32m    949\u001b[0m   \u001b[39m# Release the lock early so that multiple threads can perform the call\u001b[39;00m\n\u001b[0;32m    950\u001b[0m   \u001b[39m# in parallel.\u001b[39;00m\n\u001b[0;32m    951\u001b[0m   \u001b[39mself\u001b[39m\u001b[39m.\u001b[39m_lock\u001b[39m.\u001b[39mrelease()\n",
            "File \u001b[1;32mc:\\Users\\chenj\\anaconda3\\envs\\CV\\lib\\site-packages\\tensorflow\\python\\eager\\function.py:2496\u001b[0m, in \u001b[0;36mFunction.__call__\u001b[1;34m(self, *args, **kwargs)\u001b[0m\n\u001b[0;32m   2493\u001b[0m \u001b[39mwith\u001b[39;00m \u001b[39mself\u001b[39m\u001b[39m.\u001b[39m_lock:\n\u001b[0;32m   2494\u001b[0m   (graph_function,\n\u001b[0;32m   2495\u001b[0m    filtered_flat_args) \u001b[39m=\u001b[39m \u001b[39mself\u001b[39m\u001b[39m.\u001b[39m_maybe_define_function(args, kwargs)\n\u001b[1;32m-> 2496\u001b[0m \u001b[39mreturn\u001b[39;00m graph_function\u001b[39m.\u001b[39;49m_call_flat(\n\u001b[0;32m   2497\u001b[0m     filtered_flat_args, captured_inputs\u001b[39m=\u001b[39;49mgraph_function\u001b[39m.\u001b[39;49mcaptured_inputs)\n",
            "File \u001b[1;32mc:\\Users\\chenj\\anaconda3\\envs\\CV\\lib\\site-packages\\tensorflow\\python\\eager\\function.py:1862\u001b[0m, in \u001b[0;36mConcreteFunction._call_flat\u001b[1;34m(self, args, captured_inputs, cancellation_manager)\u001b[0m\n\u001b[0;32m   1858\u001b[0m possible_gradient_type \u001b[39m=\u001b[39m gradients_util\u001b[39m.\u001b[39mPossibleTapeGradientTypes(args)\n\u001b[0;32m   1859\u001b[0m \u001b[39mif\u001b[39;00m (possible_gradient_type \u001b[39m==\u001b[39m gradients_util\u001b[39m.\u001b[39mPOSSIBLE_GRADIENT_TYPES_NONE\n\u001b[0;32m   1860\u001b[0m     \u001b[39mand\u001b[39;00m executing_eagerly):\n\u001b[0;32m   1861\u001b[0m   \u001b[39m# No tape is watching; skip to running the function.\u001b[39;00m\n\u001b[1;32m-> 1862\u001b[0m   \u001b[39mreturn\u001b[39;00m \u001b[39mself\u001b[39m\u001b[39m.\u001b[39m_build_call_outputs(\u001b[39mself\u001b[39;49m\u001b[39m.\u001b[39;49m_inference_function\u001b[39m.\u001b[39;49mcall(\n\u001b[0;32m   1863\u001b[0m       ctx, args, cancellation_manager\u001b[39m=\u001b[39;49mcancellation_manager))\n\u001b[0;32m   1864\u001b[0m forward_backward \u001b[39m=\u001b[39m \u001b[39mself\u001b[39m\u001b[39m.\u001b[39m_select_forward_and_backward_functions(\n\u001b[0;32m   1865\u001b[0m     args,\n\u001b[0;32m   1866\u001b[0m     possible_gradient_type,\n\u001b[0;32m   1867\u001b[0m     executing_eagerly)\n\u001b[0;32m   1868\u001b[0m forward_function, args_with_tangents \u001b[39m=\u001b[39m forward_backward\u001b[39m.\u001b[39mforward()\n",
            "File \u001b[1;32mc:\\Users\\chenj\\anaconda3\\envs\\CV\\lib\\site-packages\\tensorflow\\python\\eager\\function.py:499\u001b[0m, in \u001b[0;36m_EagerDefinedFunction.call\u001b[1;34m(self, ctx, args, cancellation_manager)\u001b[0m\n\u001b[0;32m    497\u001b[0m \u001b[39mwith\u001b[39;00m _InterpolateFunctionError(\u001b[39mself\u001b[39m):\n\u001b[0;32m    498\u001b[0m   \u001b[39mif\u001b[39;00m cancellation_manager \u001b[39mis\u001b[39;00m \u001b[39mNone\u001b[39;00m:\n\u001b[1;32m--> 499\u001b[0m     outputs \u001b[39m=\u001b[39m execute\u001b[39m.\u001b[39;49mexecute(\n\u001b[0;32m    500\u001b[0m         \u001b[39mstr\u001b[39;49m(\u001b[39mself\u001b[39;49m\u001b[39m.\u001b[39;49msignature\u001b[39m.\u001b[39;49mname),\n\u001b[0;32m    501\u001b[0m         num_outputs\u001b[39m=\u001b[39;49m\u001b[39mself\u001b[39;49m\u001b[39m.\u001b[39;49m_num_outputs,\n\u001b[0;32m    502\u001b[0m         inputs\u001b[39m=\u001b[39;49margs,\n\u001b[0;32m    503\u001b[0m         attrs\u001b[39m=\u001b[39;49mattrs,\n\u001b[0;32m    504\u001b[0m         ctx\u001b[39m=\u001b[39;49mctx)\n\u001b[0;32m    505\u001b[0m   \u001b[39melse\u001b[39;00m:\n\u001b[0;32m    506\u001b[0m     outputs \u001b[39m=\u001b[39m execute\u001b[39m.\u001b[39mexecute_with_cancellation(\n\u001b[0;32m    507\u001b[0m         \u001b[39mstr\u001b[39m(\u001b[39mself\u001b[39m\u001b[39m.\u001b[39msignature\u001b[39m.\u001b[39mname),\n\u001b[0;32m    508\u001b[0m         num_outputs\u001b[39m=\u001b[39m\u001b[39mself\u001b[39m\u001b[39m.\u001b[39m_num_outputs,\n\u001b[1;32m   (...)\u001b[0m\n\u001b[0;32m    511\u001b[0m         ctx\u001b[39m=\u001b[39mctx,\n\u001b[0;32m    512\u001b[0m         cancellation_manager\u001b[39m=\u001b[39mcancellation_manager)\n",
            "File \u001b[1;32mc:\\Users\\chenj\\anaconda3\\envs\\CV\\lib\\site-packages\\tensorflow\\python\\eager\\execute.py:54\u001b[0m, in \u001b[0;36mquick_execute\u001b[1;34m(op_name, num_outputs, inputs, attrs, ctx, name)\u001b[0m\n\u001b[0;32m     52\u001b[0m \u001b[39mtry\u001b[39;00m:\n\u001b[0;32m     53\u001b[0m   ctx\u001b[39m.\u001b[39mensure_initialized()\n\u001b[1;32m---> 54\u001b[0m   tensors \u001b[39m=\u001b[39m pywrap_tfe\u001b[39m.\u001b[39;49mTFE_Py_Execute(ctx\u001b[39m.\u001b[39;49m_handle, device_name, op_name,\n\u001b[0;32m     55\u001b[0m                                       inputs, attrs, num_outputs)\n\u001b[0;32m     56\u001b[0m \u001b[39mexcept\u001b[39;00m core\u001b[39m.\u001b[39m_NotOkStatusException \u001b[39mas\u001b[39;00m e:\n\u001b[0;32m     57\u001b[0m   \u001b[39mif\u001b[39;00m name \u001b[39mis\u001b[39;00m \u001b[39mnot\u001b[39;00m \u001b[39mNone\u001b[39;00m:\n",
            "\u001b[1;31mKeyboardInterrupt\u001b[0m: "
          ]
        }
      ],
      "source": [
        "from tensorflow.keras.callbacks import EarlyStopping\n",
        "early_stopping = EarlyStopping(monitor='val_loss', patience=3, restore_best_weights=True)\n",
        "zeros_train = np.array(zeros_train).reshape(-1, 1)\n",
        "zeros_test = np.array(zeros_test).reshape(-1, 1)\n",
        "model_domain.fit([X_train,zeros_train], y_train, validation_data=([X_test, zeros_test], y_test), epochs=50, callbacks=[early_stopping], batch_size=512)"
      ]
    },
    {
      "cell_type": "code",
      "execution_count": 10,
      "metadata": {},
      "outputs": [
        {
          "name": "stderr",
          "output_type": "stream",
          "text": [
            "WARNING:absl:Found untraced functions such as _jit_compiled_convolution_op, lstm_cell_layer_call_fn, lstm_cell_layer_call_and_return_conditional_losses while saving (showing 3 of 3). These functions will not be directly callable after loading.\n"
          ]
        },
        {
          "name": "stdout",
          "output_type": "stream",
          "text": [
            "INFO:tensorflow:Assets written to: model_domain\\assets\n"
          ]
        },
        {
          "name": "stderr",
          "output_type": "stream",
          "text": [
            "INFO:tensorflow:Assets written to: model_domain\\assets\n"
          ]
        }
      ],
      "source": [
        "model_domain.save(\"model_domain\")"
      ]
    },
    {
      "cell_type": "code",
      "execution_count": 23,
      "metadata": {
        "colab": {
          "base_uri": "https://localhost:8080/"
        },
        "id": "kDCM3pykD2IB",
        "outputId": "c1695f2b-1479-4f0f-b06e-6cdd7fb7d972"
      },
      "outputs": [
        {
          "name": "stdout",
          "output_type": "stream",
          "text": [
            "Model: \"model_6\"\n",
            "__________________________________________________________________________________________________\n",
            " Layer (type)                   Output Shape         Param #     Connected to                     \n",
            "==================================================================================================\n",
            " input_13 (InputLayer)          [(None, None)]       0           []                               \n",
            "                                                                                                  \n",
            " embedding_6 (Embedding)        (None, None, 100)    500000      ['input_13[0][0]']               \n",
            "                                                                                                  \n",
            " bidirectional_5 (Bidirectional  (None, 128)         84480       ['embedding_6[0][0]']            \n",
            " )                                                                                                \n",
            "                                                                                                  \n",
            " dropout_15 (Dropout)           (None, 128)          0           ['bidirectional_5[0][0]']        \n",
            "                                                                                                  \n",
            " input_14 (InputLayer)          [(None, 1)]          0           []                               \n",
            "                                                                                                  \n",
            " concatenate_6 (Concatenate)    (None, 129)          0           ['dropout_15[0][0]',             \n",
            "                                                                  'input_14[0][0]']               \n",
            "                                                                                                  \n",
            " dense_10 (Dense)               (None, 32)           4160        ['concatenate_6[0][0]']          \n",
            "                                                                                                  \n",
            " dropout_16 (Dropout)           (None, 32)           0           ['dense_10[0][0]']               \n",
            "                                                                                                  \n",
            " dense_11 (Dense)               (None, 2)            66          ['dropout_16[0][0]']             \n",
            "                                                                                                  \n",
            "==================================================================================================\n",
            "Total params: 588,706\n",
            "Trainable params: 588,706\n",
            "Non-trainable params: 0\n",
            "__________________________________________________________________________________________________\n"
          ]
        }
      ],
      "source": [
        "# Constants\n",
        "vocab_size = 5000  # Vocabulary size\n",
        "embedding_dim = 100 # Embedding dimension\n",
        "n_domain_classes = 2 # Classification for the domain task\n",
        "\n",
        "# Input Layer\n",
        "input_layer = Input(shape=(None,))\n",
        "\n",
        "input_layer_integer = Input(shape=(1,)) \n",
        "# Embedding Layer\n",
        "embedding_layer = Embedding(vocab_size, embedding_dim, mask_zero=True)(input_layer)\n",
        "\n",
        "\n",
        "# LSTM Layer\n",
        "lstm_layer = Bidirectional(LSTM(64))(embedding_layer)\n",
        "\n",
        "# Dropout Layer\n",
        "dropout_lstm = Dropout(0.3)(lstm_layer)\n",
        "\n",
        "# Concatenate integer input with LSTM output\n",
        "concat_layer = concatenate([dropout_lstm, input_layer_integer])\n",
        "\n",
        "# New Dense Layer\n",
        "dense_layer = Dense(32, activation='relu')(concat_layer)\n",
        "dense_dropout = Dropout(0.3)(dense_layer)\n",
        "\n",
        "\n",
        "# Domain output\n",
        "class_output = Dense(n_domain_classes, activation='sigmoid')(dense_dropout)\n",
        "\n",
        "# Combined model\n",
        "model_domain1 = Model(inputs=[input_layer, input_layer_integer], outputs=class_output)\n",
        "\n",
        "\n",
        "\n",
        "model_domain1.compile(optimizer='adam',\n",
        "              loss='binary_crossentropy',\n",
        "              metrics=['accuracy'])\n",
        "\n",
        "\n",
        "\n",
        "# Model summary\n",
        "model_domain1.summary()"
      ]
    },
    {
      "cell_type": "code",
      "execution_count": 24,
      "metadata": {
        "colab": {
          "base_uri": "https://localhost:8080/"
        },
        "id": "DkXtuhH6D2IB",
        "outputId": "caa95bcc-1ec1-4a48-dcad-48638e3c0184"
      },
      "outputs": [
        {
          "name": "stdout",
          "output_type": "stream",
          "text": [
            "Epoch 1/50\n",
            "61/61 [==============================] - 84s 1s/step - loss: 0.4575 - accuracy: 0.7776 - val_loss: 0.1958 - val_accuracy: 0.9300\n",
            "Epoch 2/50\n",
            "61/61 [==============================] - 72s 1s/step - loss: 0.1634 - accuracy: 0.9492 - val_loss: 0.1457 - val_accuracy: 0.9469\n",
            "Epoch 3/50\n",
            "61/61 [==============================] - 74s 1s/step - loss: 0.0970 - accuracy: 0.9710 - val_loss: 0.1419 - val_accuracy: 0.9479\n",
            "Epoch 4/50\n",
            "61/61 [==============================] - 74s 1s/step - loss: 0.0624 - accuracy: 0.9813 - val_loss: 0.1714 - val_accuracy: 0.9477\n",
            "Epoch 5/50\n",
            "61/61 [==============================] - 77s 1s/step - loss: 0.0426 - accuracy: 0.9872 - val_loss: 0.1771 - val_accuracy: 0.9497\n",
            "Epoch 6/50\n",
            "61/61 [==============================] - 74s 1s/step - loss: 0.0298 - accuracy: 0.9919 - val_loss: 0.1966 - val_accuracy: 0.9536\n"
          ]
        },
        {
          "data": {
            "text/plain": [
              "<keras.callbacks.History at 0x1dcfac51cd0>"
            ]
          },
          "execution_count": 24,
          "metadata": {},
          "output_type": "execute_result"
        }
      ],
      "source": [
        "early_stopping = EarlyStopping(monitor='val_loss', patience=3, restore_best_weights=True)\n",
        "zeros_train_d1 = np.array(zeros_train_d1).reshape(-1, 1)\n",
        "zeros_test_d1 = np.array(zeros_test_d1).reshape(-1, 1)\n",
        "model_domain1.fit([X_train_domain1,zeros_train_d1], y_train_domain1, validation_data=([X_test_domain1,zeros_test_d1], y_test_domain1), epochs=50, callbacks=[early_stopping], batch_size = 256)"
      ]
    },
    {
      "cell_type": "code",
      "execution_count": 25,
      "metadata": {},
      "outputs": [
        {
          "name": "stderr",
          "output_type": "stream",
          "text": [
            "WARNING:absl:Found untraced functions such as lstm_cell_17_layer_call_fn, lstm_cell_17_layer_call_and_return_conditional_losses, lstm_cell_18_layer_call_fn, lstm_cell_18_layer_call_and_return_conditional_losses while saving (showing 4 of 4). These functions will not be directly callable after loading.\n"
          ]
        },
        {
          "name": "stdout",
          "output_type": "stream",
          "text": [
            "INFO:tensorflow:Assets written to: model_domain1\\assets\n"
          ]
        },
        {
          "name": "stderr",
          "output_type": "stream",
          "text": [
            "INFO:tensorflow:Assets written to: model_domain1\\assets\n"
          ]
        }
      ],
      "source": [
        "model_domain1.save(\"model_domain1\")"
      ]
    },
    {
      "cell_type": "code",
      "execution_count": null,
      "metadata": {
        "colab": {
          "base_uri": "https://localhost:8080/"
        },
        "id": "lNmAeA2BEHuf",
        "outputId": "f45081af-3583-474f-f7f6-ea1a0585bea7"
      },
      "outputs": [
        {
          "name": "stdout",
          "output_type": "stream",
          "text": [
            "Model: \"model\"\n",
            "__________________________________________________________________________________________________\n",
            " Layer (type)                   Output Shape         Param #     Connected to                     \n",
            "==================================================================================================\n",
            " input_1 (InputLayer)           [(None, None)]       0           []                               \n",
            "                                                                                                  \n",
            " embedding (Embedding)          (None, None, 100)    500000      ['input_1[0][0]']                \n",
            "                                                                                                  \n",
            " conv1d (Conv1D)                (None, None, 64)     19264       ['embedding[0][0]']              \n",
            "                                                                                                  \n",
            " dropout (Dropout)              (None, None, 64)     0           ['conv1d[0][0]']                 \n",
            "                                                                                                  \n",
            " lstm (LSTM)                    (None, 64)           33024       ['dropout[0][0]']                \n",
            "                                                                                                  \n",
            " dropout_1 (Dropout)            (None, 64)           0           ['lstm[0][0]']                   \n",
            "                                                                                                  \n",
            " dense (Dense)                  (None, 32)           2080        ['dropout_1[0][0]']              \n",
            "                                                                                                  \n",
            " dropout_2 (Dropout)            (None, 32)           0           ['dense[0][0]']                  \n",
            "                                                                                                  \n",
            " class (Dense)                  (None, 2)            66          ['dropout_2[0][0]']              \n",
            "                                                                                                  \n",
            " model (Dense)                  (None, 8)            264         ['dropout_2[0][0]']              \n",
            "                                                                                                  \n",
            "==================================================================================================\n",
            "Total params: 554,698\n",
            "Trainable params: 554,698\n",
            "Non-trainable params: 0\n",
            "__________________________________________________________________________________________________\n"
          ]
        }
      ],
      "source": [
        "# Constants\n",
        "vocab_size = 5000  # Vocabulary size\n",
        "embedding_dim = 100 # Embedding dimension\n",
        "n_models = 8  # Classification for the domain task\n",
        "n_classes =2 \n",
        "# Input Layer\n",
        "input_layer = Input(shape=(None,))\n",
        "\n",
        "# Embedding Layer\n",
        "embedding_layer = Embedding(vocab_size, embedding_dim, mask_zero=True)(input_layer)\n",
        "\n",
        "# Conv1D Layer\n",
        "conv1d_layer = Conv1D(filters=64, kernel_size=3, activation='relu')(embedding_layer)\n",
        "\n",
        "# Dropout Layer\n",
        "dropout_conv = Dropout(0.3)(conv1d_layer)\n",
        "\n",
        "\n",
        "# Max Pooling Layer\n",
        "max_pooling = MaxPooling1D(pool_size=2)(dropout_conv)\n",
        "\n",
        "# LSTM Layer\n",
        "lstm_layer = (LSTM(64))(dropout_conv)\n",
        "\n",
        "# Dropout Layer\n",
        "dropout_lstm = Dropout(0.3)(lstm_layer)\n",
        "\n",
        "\n",
        "# New Dense Layer\n",
        "dense_layer = Dense(32, activation='relu')(dropout_lstm)\n",
        "dense_dropout = Dropout(0.3)(dense_layer)\n",
        "\n",
        "\n",
        "class_output = Dense(n_classes, activation='sigmoid', name='class')(dense_dropout)\n",
        "\n",
        "\n",
        "\n",
        "model_output = Dense(n_models, activation='softmax', name='model')(dense_dropout)\n",
        "\n",
        "# Combined model\n",
        "model_domain2 = Model(inputs=input_layer, outputs=[class_output, model_output])\n",
        "\n",
        "\n",
        "\n",
        "\n",
        "model_domain2.compile(optimizer='adam',\n",
        "              loss={\n",
        "                  'class': weighted_binary_crossentropy,\n",
        "                  'model': 'categorical_crossentropy'},\n",
        "              metrics=['accuracy'])\n",
        "\n",
        "\n",
        "\n",
        "\n",
        "# Model summary\n",
        "model_domain2.summary()"
      ]
    },
    {
      "cell_type": "code",
      "execution_count": null,
      "metadata": {},
      "outputs": [
        {
          "data": {
            "text/plain": [
              "27520"
            ]
          },
          "execution_count": 61,
          "metadata": {},
          "output_type": "execute_result"
        }
      ],
      "source": [
        "len(y_train_d2[\"class\"])"
      ]
    },
    {
      "cell_type": "code",
      "execution_count": null,
      "metadata": {},
      "outputs": [],
      "source": [
        "from sklearn.utils.class_weight import compute_class_weight\n",
        "\n",
        "# Compute class weights (this is just an example; you'll need to compute this based on your own data)\n",
        "class_weights = compute_class_weight('balanced', classes=[0, 1], y=np.argmax(y_train_domain2, axis=1) )  # your_labels is the array of labels in your training set\n",
        "class_weight_dict = {0: class_weights[0], 1: class_weights[1]}\n",
        "def weighted_binary_crossentropy(y_true, y_pred):\n",
        "    weight_0 = class_weight_dict[0]\n",
        "    weight_1 = class_weight_dict[1]\n",
        "    \n",
        "    binary_crossentropy = tf.keras.losses.BinaryCrossentropy()\n",
        "    loss = binary_crossentropy(y_true, y_pred)\n",
        "    class_weights = y_true * weight_1 + (1. - y_true) * weight_0\n",
        "    weighted_loss = loss * class_weights\n",
        "    \n",
        "    return tf.reduce_mean(weighted_loss)"
      ]
    },
    {
      "cell_type": "code",
      "execution_count": null,
      "metadata": {},
      "outputs": [
        {
          "name": "stdout",
          "output_type": "stream",
          "text": [
            "Model: \"model_2\"\n",
            "__________________________________________________________________________________________________\n",
            " Layer (type)                   Output Shape         Param #     Connected to                     \n",
            "==================================================================================================\n",
            " input_5 (InputLayer)           [(None, None)]       0           []                               \n",
            "                                                                                                  \n",
            " embedding_2 (Embedding)        (None, None, 100)    500000      ['input_5[0][0]']                \n",
            "                                                                                                  \n",
            " conv1d_2 (Conv1D)              (None, None, 64)     19264       ['embedding_2[0][0]']            \n",
            "                                                                                                  \n",
            " dropout_6 (Dropout)            (None, None, 64)     0           ['conv1d_2[0][0]']               \n",
            "                                                                                                  \n",
            " lstm_2 (LSTM)                  (None, 64)           33024       ['dropout_6[0][0]']              \n",
            "                                                                                                  \n",
            " dropout_7 (Dropout)            (None, 64)           0           ['lstm_2[0][0]']                 \n",
            "                                                                                                  \n",
            " input_6 (InputLayer)           [(None, 1)]          0           []                               \n",
            "                                                                                                  \n",
            " concatenate_2 (Concatenate)    (None, 65)           0           ['dropout_7[0][0]',              \n",
            "                                                                  'input_6[0][0]']                \n",
            "                                                                                                  \n",
            " dense_2 (Dense)                (None, 32)           2112        ['concatenate_2[0][0]']          \n",
            "                                                                                                  \n",
            " dropout_8 (Dropout)            (None, 32)           0           ['dense_2[0][0]']                \n",
            "                                                                                                  \n",
            " class (Dense)                  (None, 2)            66          ['dropout_8[0][0]']              \n",
            "                                                                                                  \n",
            " model (Dense)                  (None, 8)            264         ['dropout_8[0][0]']              \n",
            "                                                                                                  \n",
            "==================================================================================================\n",
            "Total params: 554,730\n",
            "Trainable params: 554,730\n",
            "Non-trainable params: 0\n",
            "__________________________________________________________________________________________________\n"
          ]
        }
      ],
      "source": [
        "from tensorflow.keras.layers import concatenate\n",
        "\n",
        "# Constants\n",
        "vocab_size = 5000  # Vocabulary size\n",
        "embedding_dim = 100  # Embedding dimension\n",
        "n_models = 8  # Classification for the domain task\n",
        "n_classes = 2  # Number of classes\n",
        "\n",
        "# Existing Input Layer for text\n",
        "input_layer_text = Input(shape=(None,))\n",
        "\n",
        "# New Input Layer for the integer feature\n",
        "input_layer_integer = Input(shape=(1,))  # Change shape as necessary\n",
        "\n",
        "# Embedding Layer\n",
        "embedding_layer = Embedding(vocab_size, embedding_dim, mask_zero=True)(input_layer_text)\n",
        "\n",
        "# Conv1D Layer\n",
        "conv1d_layer = Conv1D(filters=64, kernel_size=3, activation='relu')(embedding_layer)\n",
        "\n",
        "# Dropout Layer\n",
        "dropout_conv = Dropout(0.3)(conv1d_layer)\n",
        "\n",
        "# Max Pooling Layer\n",
        "max_pooling = MaxPooling1D(pool_size=2)(dropout_conv)\n",
        "\n",
        "# LSTM Layer\n",
        "lstm_layer = LSTM(64)(dropout_conv)\n",
        "\n",
        "# Dropout Layer\n",
        "dropout_lstm = Dropout(0.3)(lstm_layer)\n",
        "\n",
        "# Concatenate integer input with LSTM output\n",
        "concat_layer = concatenate([dropout_lstm, input_layer_integer])\n",
        "\n",
        "# New Dense Layer\n",
        "dense_layer = Dense(32, activation='relu')(concat_layer)\n",
        "dense_dropout = Dropout(0.3)(dense_layer)\n",
        "\n",
        "# Class output layer\n",
        "class_output = Dense(n_classes, activation='sigmoid', name='class')(dense_dropout)\n",
        "\n",
        "# Model output layer\n",
        "model_output = Dense(n_models, activation='softmax', name='model')(dense_dropout)\n",
        "\n",
        "# Combined model\n",
        "model_domain2 = Model(inputs=[input_layer_text, input_layer_integer], outputs=[class_output, model_output])\n",
        "\n",
        "# Compile the model\n",
        "model_domain2.compile(optimizer='adam',\n",
        "                      loss={\n",
        "                          'class': weighted_binary_crossentropy,  # Replace with your weighted loss if needed\n",
        "                          'model': 'categorical_crossentropy'},\n",
        "                      metrics=['accuracy'])\n",
        "\n",
        "# Model summary\n",
        "model_domain2.summary()"
      ]
    },
    {
      "cell_type": "code",
      "execution_count": null,
      "metadata": {},
      "outputs": [
        {
          "data": {
            "text/plain": [
              "{'class': array([[1., 0.],\n",
              "        [1., 0.],\n",
              "        [1., 0.],\n",
              "        ...,\n",
              "        [1., 0.],\n",
              "        [1., 0.],\n",
              "        [0., 1.]], dtype=float32),\n",
              " 'model': array([[1., 0., 0., ..., 0., 0., 0.],\n",
              "        [1., 0., 0., ..., 0., 0., 0.],\n",
              "        [0., 0., 0., ..., 0., 0., 0.],\n",
              "        ...,\n",
              "        [0., 0., 0., ..., 0., 1., 0.],\n",
              "        [1., 0., 0., ..., 0., 0., 0.],\n",
              "        [0., 0., 0., ..., 0., 0., 1.]], dtype=float32)}"
            ]
          },
          "execution_count": 104,
          "metadata": {},
          "output_type": "execute_result"
        }
      ],
      "source": [
        "y_train_d2"
      ]
    },
    {
      "cell_type": "code",
      "execution_count": null,
      "metadata": {
        "colab": {
          "base_uri": "https://localhost:8080/"
        },
        "id": "tyQLya8qEJVm",
        "outputId": "48c713fa-2684-47fe-d7ef-75c69a34f521"
      },
      "outputs": [
        {
          "name": "stdout",
          "output_type": "stream",
          "text": [
            "Epoch 1/50\n",
            "47/47 [==============================] - 11s 120ms/step - loss: 4.0402 - class_loss: 1.5027 - model_loss: 2.5375 - class_accuracy: 0.8371 - model_accuracy: 0.1579 - val_loss: 2.8997 - val_class_loss: 0.9787 - val_model_loss: 1.9210 - val_class_accuracy: 0.8557 - val_model_accuracy: 0.1980\n",
            "Epoch 2/50\n",
            "47/47 [==============================] - 5s 103ms/step - loss: 3.2647 - class_loss: 1.0584 - model_loss: 2.2063 - class_accuracy: 0.8467 - model_accuracy: 0.1890 - val_loss: 2.6820 - val_class_loss: 0.8013 - val_model_loss: 1.8807 - val_class_accuracy: 0.8557 - val_model_accuracy: 0.2450\n",
            "Epoch 3/50\n",
            "47/47 [==============================] - 5s 104ms/step - loss: 2.9043 - class_loss: 0.8961 - model_loss: 2.0082 - class_accuracy: 0.8529 - model_accuracy: 0.2292 - val_loss: 2.5725 - val_class_loss: 0.7700 - val_model_loss: 1.8025 - val_class_accuracy: 0.8560 - val_model_accuracy: 0.2668\n",
            "Epoch 4/50\n",
            "47/47 [==============================] - 5s 106ms/step - loss: 2.6696 - class_loss: 0.7872 - model_loss: 1.8824 - class_accuracy: 0.8605 - model_accuracy: 0.2633 - val_loss: 2.5463 - val_class_loss: 0.7728 - val_model_loss: 1.7735 - val_class_accuracy: 0.8550 - val_model_accuracy: 0.2708\n",
            "Epoch 5/50\n",
            "47/47 [==============================] - 5s 105ms/step - loss: 2.4753 - class_loss: 0.6898 - model_loss: 1.7855 - class_accuracy: 0.8694 - model_accuracy: 0.2969 - val_loss: 2.6315 - val_class_loss: 0.8487 - val_model_loss: 1.7829 - val_class_accuracy: 0.8577 - val_model_accuracy: 0.2758\n",
            "Epoch 6/50\n",
            "47/47 [==============================] - 5s 102ms/step - loss: 2.3407 - class_loss: 0.6194 - model_loss: 1.7212 - class_accuracy: 0.8785 - model_accuracy: 0.3099 - val_loss: 2.6210 - val_class_loss: 0.8464 - val_model_loss: 1.7746 - val_class_accuracy: 0.8470 - val_model_accuracy: 0.2768\n",
            "Epoch 7/50\n",
            "47/47 [==============================] - 5s 105ms/step - loss: 2.2335 - class_loss: 0.5665 - model_loss: 1.6669 - class_accuracy: 0.8892 - model_accuracy: 0.3313 - val_loss: 2.6620 - val_class_loss: 0.8818 - val_model_loss: 1.7803 - val_class_accuracy: 0.8477 - val_model_accuracy: 0.2899\n",
            "Epoch 8/50\n",
            "47/47 [==============================] - 5s 105ms/step - loss: 2.1273 - class_loss: 0.4971 - model_loss: 1.6302 - class_accuracy: 0.9010 - model_accuracy: 0.3444 - val_loss: 2.7842 - val_class_loss: 0.9694 - val_model_loss: 1.8148 - val_class_accuracy: 0.8426 - val_model_accuracy: 0.2883\n",
            "Epoch 9/50\n",
            "47/47 [==============================] - 5s 104ms/step - loss: 2.0123 - class_loss: 0.4365 - model_loss: 1.5758 - class_accuracy: 0.9170 - model_accuracy: 0.3666 - val_loss: 2.8995 - val_class_loss: 1.0519 - val_model_loss: 1.8476 - val_class_accuracy: 0.8329 - val_model_accuracy: 0.2987\n",
            "Epoch 10/50\n",
            "47/47 [==============================] - 5s 105ms/step - loss: 1.8959 - class_loss: 0.3665 - model_loss: 1.5294 - class_accuracy: 0.9299 - model_accuracy: 0.3781 - val_loss: 3.0353 - val_class_loss: 1.1386 - val_model_loss: 1.8967 - val_class_accuracy: 0.8171 - val_model_accuracy: 0.2946\n",
            "Epoch 11/50\n",
            "47/47 [==============================] - 5s 104ms/step - loss: 1.7873 - class_loss: 0.3075 - model_loss: 1.4798 - class_accuracy: 0.9463 - model_accuracy: 0.3914 - val_loss: 3.2560 - val_class_loss: 1.2700 - val_model_loss: 1.9860 - val_class_accuracy: 0.8258 - val_model_accuracy: 0.3037\n",
            "Epoch 12/50\n",
            "47/47 [==============================] - 5s 103ms/step - loss: 1.6860 - class_loss: 0.2562 - model_loss: 1.4298 - class_accuracy: 0.9576 - model_accuracy: 0.4061 - val_loss: 3.5232 - val_class_loss: 1.4393 - val_model_loss: 2.0838 - val_class_accuracy: 0.8091 - val_model_accuracy: 0.2977\n",
            "Epoch 13/50\n",
            "42/47 [=========================>....] - ETA: 0s - loss: 1.5981 - class_loss: 0.2041 - model_loss: 1.3940 - class_accuracy: 0.9697 - model_accuracy: 0.4189"
          ]
        },
        {
          "ename": "KeyboardInterrupt",
          "evalue": "",
          "output_type": "error",
          "traceback": [
            "\u001b[1;31m---------------------------------------------------------------------------\u001b[0m",
            "\u001b[1;31mKeyboardInterrupt\u001b[0m                         Traceback (most recent call last)",
            "\u001b[1;32mc:\\Users\\chenj\\Documents\\SML\\ass1\\SML-assignment\\domain_lstm_colab.ipynb Cell 19\u001b[0m line \u001b[0;36m5\n\u001b[0;32m      <a href='vscode-notebook-cell:/c%3A/Users/chenj/Documents/SML/ass1/SML-assignment/domain_lstm_colab.ipynb#X23sZmlsZQ%3D%3D?line=2'>3</a>\u001b[0m zeros_test \u001b[39m=\u001b[39m np\u001b[39m.\u001b[39marray(zeros_test)\u001b[39m.\u001b[39mreshape(\u001b[39m-\u001b[39m\u001b[39m1\u001b[39m, \u001b[39m1\u001b[39m)\n\u001b[0;32m      <a href='vscode-notebook-cell:/c%3A/Users/chenj/Documents/SML/ass1/SML-assignment/domain_lstm_colab.ipynb#X23sZmlsZQ%3D%3D?line=3'>4</a>\u001b[0m early_stopping \u001b[39m=\u001b[39m EarlyStopping(monitor\u001b[39m=\u001b[39m\u001b[39m'\u001b[39m\u001b[39mval_loss\u001b[39m\u001b[39m'\u001b[39m, patience\u001b[39m=\u001b[39m\u001b[39m10\u001b[39m, restore_best_weights\u001b[39m=\u001b[39m\u001b[39mTrue\u001b[39;00m)\n\u001b[1;32m----> <a href='vscode-notebook-cell:/c%3A/Users/chenj/Documents/SML/ass1/SML-assignment/domain_lstm_colab.ipynb#X23sZmlsZQ%3D%3D?line=4'>5</a>\u001b[0m model_domain2\u001b[39m.\u001b[39;49mfit([X_train_domain2,zeros_train], y_train_d2, validation_data\u001b[39m=\u001b[39;49m([X_test_domain2,zeros_test], y_test_d2), epochs\u001b[39m=\u001b[39;49m\u001b[39m50\u001b[39;49m, callbacks\u001b[39m=\u001b[39;49m[early_stopping], batch_size \u001b[39m=\u001b[39;49m \u001b[39m256\u001b[39;49m)\n",
            "File \u001b[1;32mc:\\Users\\chenj\\anaconda3\\envs\\CV\\lib\\site-packages\\keras\\utils\\traceback_utils.py:65\u001b[0m, in \u001b[0;36mfilter_traceback.<locals>.error_handler\u001b[1;34m(*args, **kwargs)\u001b[0m\n\u001b[0;32m     63\u001b[0m filtered_tb \u001b[39m=\u001b[39m \u001b[39mNone\u001b[39;00m\n\u001b[0;32m     64\u001b[0m \u001b[39mtry\u001b[39;00m:\n\u001b[1;32m---> 65\u001b[0m     \u001b[39mreturn\u001b[39;00m fn(\u001b[39m*\u001b[39margs, \u001b[39m*\u001b[39m\u001b[39m*\u001b[39mkwargs)\n\u001b[0;32m     66\u001b[0m \u001b[39mexcept\u001b[39;00m \u001b[39mException\u001b[39;00m \u001b[39mas\u001b[39;00m e:\n\u001b[0;32m     67\u001b[0m     filtered_tb \u001b[39m=\u001b[39m _process_traceback_frames(e\u001b[39m.\u001b[39m__traceback__)\n",
            "File \u001b[1;32mc:\\Users\\chenj\\anaconda3\\envs\\CV\\lib\\site-packages\\keras\\engine\\training.py:1570\u001b[0m, in \u001b[0;36mModel.fit\u001b[1;34m(self, x, y, batch_size, epochs, verbose, callbacks, validation_split, validation_data, shuffle, class_weight, sample_weight, initial_epoch, steps_per_epoch, validation_steps, validation_batch_size, validation_freq, max_queue_size, workers, use_multiprocessing)\u001b[0m\n\u001b[0;32m   1568\u001b[0m logs \u001b[39m=\u001b[39m tmp_logs\n\u001b[0;32m   1569\u001b[0m end_step \u001b[39m=\u001b[39m step \u001b[39m+\u001b[39m data_handler\u001b[39m.\u001b[39mstep_increment\n\u001b[1;32m-> 1570\u001b[0m callbacks\u001b[39m.\u001b[39;49mon_train_batch_end(end_step, logs)\n\u001b[0;32m   1571\u001b[0m \u001b[39mif\u001b[39;00m \u001b[39mself\u001b[39m\u001b[39m.\u001b[39mstop_training:\n\u001b[0;32m   1572\u001b[0m     \u001b[39mbreak\u001b[39;00m\n",
            "File \u001b[1;32mc:\\Users\\chenj\\anaconda3\\envs\\CV\\lib\\site-packages\\keras\\callbacks.py:470\u001b[0m, in \u001b[0;36mCallbackList.on_train_batch_end\u001b[1;34m(self, batch, logs)\u001b[0m\n\u001b[0;32m    463\u001b[0m \u001b[39m\u001b[39m\u001b[39m\"\"\"Calls the `on_train_batch_end` methods of its callbacks.\u001b[39;00m\n\u001b[0;32m    464\u001b[0m \n\u001b[0;32m    465\u001b[0m \u001b[39mArgs:\u001b[39;00m\n\u001b[0;32m    466\u001b[0m \u001b[39m    batch: Integer, index of batch within the current epoch.\u001b[39;00m\n\u001b[0;32m    467\u001b[0m \u001b[39m    logs: Dict. Aggregated metric results up until this batch.\u001b[39;00m\n\u001b[0;32m    468\u001b[0m \u001b[39m\"\"\"\u001b[39;00m\n\u001b[0;32m    469\u001b[0m \u001b[39mif\u001b[39;00m \u001b[39mself\u001b[39m\u001b[39m.\u001b[39m_should_call_train_batch_hooks:\n\u001b[1;32m--> 470\u001b[0m     \u001b[39mself\u001b[39;49m\u001b[39m.\u001b[39;49m_call_batch_hook(ModeKeys\u001b[39m.\u001b[39;49mTRAIN, \u001b[39m\"\u001b[39;49m\u001b[39mend\u001b[39;49m\u001b[39m\"\u001b[39;49m, batch, logs\u001b[39m=\u001b[39;49mlogs)\n",
            "File \u001b[1;32mc:\\Users\\chenj\\anaconda3\\envs\\CV\\lib\\site-packages\\keras\\callbacks.py:317\u001b[0m, in \u001b[0;36mCallbackList._call_batch_hook\u001b[1;34m(self, mode, hook, batch, logs)\u001b[0m\n\u001b[0;32m    315\u001b[0m     \u001b[39mself\u001b[39m\u001b[39m.\u001b[39m_call_batch_begin_hook(mode, batch, logs)\n\u001b[0;32m    316\u001b[0m \u001b[39melif\u001b[39;00m hook \u001b[39m==\u001b[39m \u001b[39m\"\u001b[39m\u001b[39mend\u001b[39m\u001b[39m\"\u001b[39m:\n\u001b[1;32m--> 317\u001b[0m     \u001b[39mself\u001b[39;49m\u001b[39m.\u001b[39;49m_call_batch_end_hook(mode, batch, logs)\n\u001b[0;32m    318\u001b[0m \u001b[39melse\u001b[39;00m:\n\u001b[0;32m    319\u001b[0m     \u001b[39mraise\u001b[39;00m \u001b[39mValueError\u001b[39;00m(\n\u001b[0;32m    320\u001b[0m         \u001b[39mf\u001b[39m\u001b[39m\"\u001b[39m\u001b[39mUnrecognized hook: \u001b[39m\u001b[39m{\u001b[39;00mhook\u001b[39m}\u001b[39;00m\u001b[39m. \u001b[39m\u001b[39m\"\u001b[39m\n\u001b[0;32m    321\u001b[0m         \u001b[39m'\u001b[39m\u001b[39mExpected values are [\u001b[39m\u001b[39m\"\u001b[39m\u001b[39mbegin\u001b[39m\u001b[39m\"\u001b[39m\u001b[39m, \u001b[39m\u001b[39m\"\u001b[39m\u001b[39mend\u001b[39m\u001b[39m\"\u001b[39m\u001b[39m]\u001b[39m\u001b[39m'\u001b[39m\n\u001b[0;32m    322\u001b[0m     )\n",
            "File \u001b[1;32mc:\\Users\\chenj\\anaconda3\\envs\\CV\\lib\\site-packages\\keras\\callbacks.py:340\u001b[0m, in \u001b[0;36mCallbackList._call_batch_end_hook\u001b[1;34m(self, mode, batch, logs)\u001b[0m\n\u001b[0;32m    337\u001b[0m     batch_time \u001b[39m=\u001b[39m time\u001b[39m.\u001b[39mtime() \u001b[39m-\u001b[39m \u001b[39mself\u001b[39m\u001b[39m.\u001b[39m_batch_start_time\n\u001b[0;32m    338\u001b[0m     \u001b[39mself\u001b[39m\u001b[39m.\u001b[39m_batch_times\u001b[39m.\u001b[39mappend(batch_time)\n\u001b[1;32m--> 340\u001b[0m \u001b[39mself\u001b[39;49m\u001b[39m.\u001b[39;49m_call_batch_hook_helper(hook_name, batch, logs)\n\u001b[0;32m    342\u001b[0m \u001b[39mif\u001b[39;00m \u001b[39mlen\u001b[39m(\u001b[39mself\u001b[39m\u001b[39m.\u001b[39m_batch_times) \u001b[39m>\u001b[39m\u001b[39m=\u001b[39m \u001b[39mself\u001b[39m\u001b[39m.\u001b[39m_num_batches_for_timing_check:\n\u001b[0;32m    343\u001b[0m     end_hook_name \u001b[39m=\u001b[39m hook_name\n",
            "File \u001b[1;32mc:\\Users\\chenj\\anaconda3\\envs\\CV\\lib\\site-packages\\keras\\callbacks.py:388\u001b[0m, in \u001b[0;36mCallbackList._call_batch_hook_helper\u001b[1;34m(self, hook_name, batch, logs)\u001b[0m\n\u001b[0;32m    386\u001b[0m \u001b[39mfor\u001b[39;00m callback \u001b[39min\u001b[39;00m \u001b[39mself\u001b[39m\u001b[39m.\u001b[39mcallbacks:\n\u001b[0;32m    387\u001b[0m     hook \u001b[39m=\u001b[39m \u001b[39mgetattr\u001b[39m(callback, hook_name)\n\u001b[1;32m--> 388\u001b[0m     hook(batch, logs)\n\u001b[0;32m    390\u001b[0m \u001b[39mif\u001b[39;00m \u001b[39mself\u001b[39m\u001b[39m.\u001b[39m_check_timing:\n\u001b[0;32m    391\u001b[0m     \u001b[39mif\u001b[39;00m hook_name \u001b[39mnot\u001b[39;00m \u001b[39min\u001b[39;00m \u001b[39mself\u001b[39m\u001b[39m.\u001b[39m_hook_times:\n",
            "File \u001b[1;32mc:\\Users\\chenj\\anaconda3\\envs\\CV\\lib\\site-packages\\keras\\callbacks.py:1081\u001b[0m, in \u001b[0;36mProgbarLogger.on_train_batch_end\u001b[1;34m(self, batch, logs)\u001b[0m\n\u001b[0;32m   1080\u001b[0m \u001b[39mdef\u001b[39;00m \u001b[39mon_train_batch_end\u001b[39m(\u001b[39mself\u001b[39m, batch, logs\u001b[39m=\u001b[39m\u001b[39mNone\u001b[39;00m):\n\u001b[1;32m-> 1081\u001b[0m     \u001b[39mself\u001b[39;49m\u001b[39m.\u001b[39;49m_batch_update_progbar(batch, logs)\n",
            "File \u001b[1;32mc:\\Users\\chenj\\anaconda3\\envs\\CV\\lib\\site-packages\\keras\\callbacks.py:1157\u001b[0m, in \u001b[0;36mProgbarLogger._batch_update_progbar\u001b[1;34m(self, batch, logs)\u001b[0m\n\u001b[0;32m   1153\u001b[0m     \u001b[39mself\u001b[39m\u001b[39m.\u001b[39mseen \u001b[39m+\u001b[39m\u001b[39m=\u001b[39m add_seen\n\u001b[0;32m   1155\u001b[0m \u001b[39mif\u001b[39;00m \u001b[39mself\u001b[39m\u001b[39m.\u001b[39mverbose \u001b[39m==\u001b[39m \u001b[39m1\u001b[39m:\n\u001b[0;32m   1156\u001b[0m     \u001b[39m# Only block async when verbose = 1.\u001b[39;00m\n\u001b[1;32m-> 1157\u001b[0m     logs \u001b[39m=\u001b[39m tf_utils\u001b[39m.\u001b[39;49msync_to_numpy_or_python_type(logs)\n\u001b[0;32m   1158\u001b[0m     \u001b[39mself\u001b[39m\u001b[39m.\u001b[39mprogbar\u001b[39m.\u001b[39mupdate(\u001b[39mself\u001b[39m\u001b[39m.\u001b[39mseen, \u001b[39mlist\u001b[39m(logs\u001b[39m.\u001b[39mitems()), finalize\u001b[39m=\u001b[39m\u001b[39mFalse\u001b[39;00m)\n",
            "File \u001b[1;32mc:\\Users\\chenj\\anaconda3\\envs\\CV\\lib\\site-packages\\keras\\utils\\tf_utils.py:635\u001b[0m, in \u001b[0;36msync_to_numpy_or_python_type\u001b[1;34m(tensors)\u001b[0m\n\u001b[0;32m    632\u001b[0m         \u001b[39mreturn\u001b[39;00m t\n\u001b[0;32m    633\u001b[0m     \u001b[39mreturn\u001b[39;00m t\u001b[39m.\u001b[39mitem() \u001b[39mif\u001b[39;00m np\u001b[39m.\u001b[39mndim(t) \u001b[39m==\u001b[39m \u001b[39m0\u001b[39m \u001b[39melse\u001b[39;00m t\n\u001b[1;32m--> 635\u001b[0m \u001b[39mreturn\u001b[39;00m tf\u001b[39m.\u001b[39;49mnest\u001b[39m.\u001b[39;49mmap_structure(_to_single_numpy_or_python_type, tensors)\n",
            "File \u001b[1;32mc:\\Users\\chenj\\anaconda3\\envs\\CV\\lib\\site-packages\\tensorflow\\python\\util\\nest.py:917\u001b[0m, in \u001b[0;36mmap_structure\u001b[1;34m(func, *structure, **kwargs)\u001b[0m\n\u001b[0;32m    913\u001b[0m flat_structure \u001b[39m=\u001b[39m (flatten(s, expand_composites) \u001b[39mfor\u001b[39;00m s \u001b[39min\u001b[39;00m structure)\n\u001b[0;32m    914\u001b[0m entries \u001b[39m=\u001b[39m \u001b[39mzip\u001b[39m(\u001b[39m*\u001b[39mflat_structure)\n\u001b[0;32m    916\u001b[0m \u001b[39mreturn\u001b[39;00m pack_sequence_as(\n\u001b[1;32m--> 917\u001b[0m     structure[\u001b[39m0\u001b[39m], [func(\u001b[39m*\u001b[39mx) \u001b[39mfor\u001b[39;00m x \u001b[39min\u001b[39;00m entries],\n\u001b[0;32m    918\u001b[0m     expand_composites\u001b[39m=\u001b[39mexpand_composites)\n",
            "File \u001b[1;32mc:\\Users\\chenj\\anaconda3\\envs\\CV\\lib\\site-packages\\tensorflow\\python\\util\\nest.py:917\u001b[0m, in \u001b[0;36m<listcomp>\u001b[1;34m(.0)\u001b[0m\n\u001b[0;32m    913\u001b[0m flat_structure \u001b[39m=\u001b[39m (flatten(s, expand_composites) \u001b[39mfor\u001b[39;00m s \u001b[39min\u001b[39;00m structure)\n\u001b[0;32m    914\u001b[0m entries \u001b[39m=\u001b[39m \u001b[39mzip\u001b[39m(\u001b[39m*\u001b[39mflat_structure)\n\u001b[0;32m    916\u001b[0m \u001b[39mreturn\u001b[39;00m pack_sequence_as(\n\u001b[1;32m--> 917\u001b[0m     structure[\u001b[39m0\u001b[39m], [func(\u001b[39m*\u001b[39;49mx) \u001b[39mfor\u001b[39;00m x \u001b[39min\u001b[39;00m entries],\n\u001b[0;32m    918\u001b[0m     expand_composites\u001b[39m=\u001b[39mexpand_composites)\n",
            "File \u001b[1;32mc:\\Users\\chenj\\anaconda3\\envs\\CV\\lib\\site-packages\\keras\\utils\\tf_utils.py:628\u001b[0m, in \u001b[0;36msync_to_numpy_or_python_type.<locals>._to_single_numpy_or_python_type\u001b[1;34m(t)\u001b[0m\n\u001b[0;32m    625\u001b[0m \u001b[39mdef\u001b[39;00m \u001b[39m_to_single_numpy_or_python_type\u001b[39m(t):\n\u001b[0;32m    626\u001b[0m     \u001b[39m# Don't turn ragged or sparse tensors to NumPy.\u001b[39;00m\n\u001b[0;32m    627\u001b[0m     \u001b[39mif\u001b[39;00m \u001b[39misinstance\u001b[39m(t, tf\u001b[39m.\u001b[39mTensor):\n\u001b[1;32m--> 628\u001b[0m         t \u001b[39m=\u001b[39m t\u001b[39m.\u001b[39;49mnumpy()\n\u001b[0;32m    629\u001b[0m     \u001b[39m# Strings, ragged and sparse tensors don't have .item(). Return them\u001b[39;00m\n\u001b[0;32m    630\u001b[0m     \u001b[39m# as-is.\u001b[39;00m\n\u001b[0;32m    631\u001b[0m     \u001b[39mif\u001b[39;00m \u001b[39mnot\u001b[39;00m \u001b[39misinstance\u001b[39m(t, (np\u001b[39m.\u001b[39mndarray, np\u001b[39m.\u001b[39mgeneric)):\n",
            "File \u001b[1;32mc:\\Users\\chenj\\anaconda3\\envs\\CV\\lib\\site-packages\\tensorflow\\python\\framework\\ops.py:1157\u001b[0m, in \u001b[0;36m_EagerTensorBase.numpy\u001b[1;34m(self)\u001b[0m\n\u001b[0;32m   1134\u001b[0m \u001b[39m\u001b[39m\u001b[39m\"\"\"Copy of the contents of this Tensor into a NumPy array or scalar.\u001b[39;00m\n\u001b[0;32m   1135\u001b[0m \n\u001b[0;32m   1136\u001b[0m \u001b[39mUnlike NumPy arrays, Tensors are immutable, so this method has to copy\u001b[39;00m\n\u001b[1;32m   (...)\u001b[0m\n\u001b[0;32m   1154\u001b[0m \u001b[39m    NumPy dtype.\u001b[39;00m\n\u001b[0;32m   1155\u001b[0m \u001b[39m\"\"\"\u001b[39;00m\n\u001b[0;32m   1156\u001b[0m \u001b[39m# TODO(slebedev): Consider avoiding a copy for non-CPU or remote tensors.\u001b[39;00m\n\u001b[1;32m-> 1157\u001b[0m maybe_arr \u001b[39m=\u001b[39m \u001b[39mself\u001b[39;49m\u001b[39m.\u001b[39;49m_numpy()  \u001b[39m# pylint: disable=protected-access\u001b[39;00m\n\u001b[0;32m   1158\u001b[0m \u001b[39mreturn\u001b[39;00m maybe_arr\u001b[39m.\u001b[39mcopy() \u001b[39mif\u001b[39;00m \u001b[39misinstance\u001b[39m(maybe_arr, np\u001b[39m.\u001b[39mndarray) \u001b[39melse\u001b[39;00m maybe_arr\n",
            "File \u001b[1;32mc:\\Users\\chenj\\anaconda3\\envs\\CV\\lib\\site-packages\\tensorflow\\python\\framework\\ops.py:1123\u001b[0m, in \u001b[0;36m_EagerTensorBase._numpy\u001b[1;34m(self)\u001b[0m\n\u001b[0;32m   1121\u001b[0m \u001b[39mdef\u001b[39;00m \u001b[39m_numpy\u001b[39m(\u001b[39mself\u001b[39m):\n\u001b[0;32m   1122\u001b[0m   \u001b[39mtry\u001b[39;00m:\n\u001b[1;32m-> 1123\u001b[0m     \u001b[39mreturn\u001b[39;00m \u001b[39mself\u001b[39;49m\u001b[39m.\u001b[39;49m_numpy_internal()\n\u001b[0;32m   1124\u001b[0m   \u001b[39mexcept\u001b[39;00m core\u001b[39m.\u001b[39m_NotOkStatusException \u001b[39mas\u001b[39;00m e:  \u001b[39m# pylint: disable=protected-access\u001b[39;00m\n\u001b[0;32m   1125\u001b[0m     \u001b[39mraise\u001b[39;00m core\u001b[39m.\u001b[39m_status_to_exception(e) \u001b[39mfrom\u001b[39;00m \u001b[39mNone\u001b[39;00m\n",
            "\u001b[1;31mKeyboardInterrupt\u001b[0m: "
          ]
        }
      ],
      "source": [
        "from tensorflow.keras.callbacks import EarlyStopping\n",
        "zeros_train = np.array(zeros_train).reshape(-1, 1)\n",
        "zeros_test = np.array(zeros_test).reshape(-1, 1)\n",
        "early_stopping = EarlyStopping(monitor='val_loss', patience=3, restore_best_weights=True)\n",
        "model_domain2.fit([X_train_domain2,zeros_train], y_train_d2, validation_data=([X_test_domain2,zeros_test], y_test_d2), epochs=50, callbacks=[early_stopping], batch_size = 256)"
      ]
    }
  ],
  "metadata": {
    "accelerator": "GPU",
    "colab": {
      "gpuType": "V100",
      "provenance": []
    },
    "kernelspec": {
      "display_name": "Python 3",
      "name": "python3"
    },
    "language_info": {
      "codemirror_mode": {
        "name": "ipython",
        "version": 3
      },
      "file_extension": ".py",
      "mimetype": "text/x-python",
      "name": "python",
      "nbconvert_exporter": "python",
      "pygments_lexer": "ipython3",
      "version": "3.9.17"
    },
    "orig_nbformat": 4
  },
  "nbformat": 4,
  "nbformat_minor": 0
}
